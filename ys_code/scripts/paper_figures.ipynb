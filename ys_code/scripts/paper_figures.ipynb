{
 "cells": [
  {
   "cell_type": "markdown",
   "metadata": {},
   "source": [
    "This notebook contains figures and supplemental figures that used in paper \"Microbial predictors of healing and short-term effect of debridement on the microbiome of chronic wounds: the role of facultative anaerobes\"\n",
    "\n",
    "A list of figures:\n",
    "\n",
    "Figures:\n",
    "  - Figure 4\n",
    "  - Figure 5C,5D\n",
    "  - Figure 6E,6F\n",
    "\n",
    "SI:\n",
    "  - Figure S1\n",
    "  - Figure S4\n",
    "  - Figure S5\n",
    "  - Figure S8\n",
    "  - Figure S9\n",
    "\n",
    "\n",
    "# Environment set up"
   ]
  },
  {
   "cell_type": "code",
   "execution_count": null,
   "metadata": {
    "ExecuteTime": {
     "end_time": "2019-09-15T21:20:19.177240Z",
     "start_time": "2019-09-15T21:20:17.042982Z"
    },
    "collapsed": false,
    "init_cell": true
   },
   "outputs": [],
   "source": [
    "import skin_mb\n",
    "from os import environ\n",
    "environ['DATA_PATH'] = '/Users/randal/research/projects/skin_wound_microbiome/data/'  #add data path\n",
    "DATA_PATH = environ['DATA_PATH']\n",
    "\n",
    "import warnings\n",
    "warnings.filterwarnings('ignore')\n",
    "import matplotlib as mpl\n",
    "import matplotlib.pyplot as plt\n",
    "mpl.rcParams['figure.dpi'] = 300\n",
    "mpl.pyplot.style.use('ggplot')\n",
    "import numpy as np\n",
    "np.random.seed(10)"
   ]
  },
  {
   "cell_type": "markdown",
   "metadata": {},
   "source": [
    "# Main text\n",
    "## Quick summary of `DESeq2` and `BGLMM` results\n",
    "\n",
    "Available datasets:\n",
    "    - filtered\n",
    "    - filtered_no_p16\n",
    "    \n",
    "Available comparison:\n",
    "    - pre_vs_skin\n",
    "    - pre_vs_post"
   ]
  },
  {
   "cell_type": "code",
   "execution_count": null,
   "metadata": {
    "ExecuteTime": {
     "end_time": "2019-09-15T20:43:36.258022Z",
     "start_time": "2019-09-15T20:43:33.377559Z"
    },
    "collapsed": false
   },
   "outputs": [],
   "source": [
    "from skin_mb.data import DeseqResult, BayesianRes\n",
    "\n",
    "print('DESeq2 results:')\n",
    "DeseqResult.load_default('filtered_no_p16').summary('pre_vs_skin')\n",
    "\n",
    "print('\\nBGLMM results')\n",
    "BayesianRes.load_default('filtered_no_p16').summary('pre_vs_skin')"
   ]
  },
  {
   "cell_type": "markdown",
   "metadata": {},
   "source": [
    "## Figure 4: association of OTUs with wound (pre-debridement) and skin\n",
    "\n",
    "Function `tri_panel_plot` arguments:\n",
    "  - `dataset`: choose from 'filtered' or 'filtered_no_p16'\n",
    "  - `compare`: choose from 'pre_vs_skin' or 'pre_vs_post'\n",
    "  - `label_mapper`: use 'genus_name' to show genus name, None to show original OTU label\n",
    "  - `otu_scope`: use 'abun' to show only OTUs with average relative abundance > 0.1%, or 'not abun' otherwise\n",
    "  - `z_log`: for heatmap, True if put the differnce of relative abundance in comparison on log scale\n",
    "  - `figsize`: adjust figure size for visualization"
   ]
  },
  {
   "cell_type": "code",
   "execution_count": null,
   "metadata": {
    "ExecuteTime": {
     "end_time": "2019-09-14T15:12:07.482362Z",
     "start_time": "2019-09-14T15:11:46.898333Z"
    },
    "collapsed": false,
    "scrolled": false
   },
   "outputs": [],
   "source": [
    "from skin_mb.report import results_compare\n",
    "\n",
    "tri_panel_plot = results_compare.tri_panel_plot\n",
    "\n",
    "otu_list = tri_panel_plot(dataset='filtered_no_p16',\n",
    "                          compare='pre_vs_skin',\n",
    "                          label_mapper='genus_name',\n",
    "                          otu_scope='abun', \n",
    "                          z_log=True,\n",
    "                          figsize=(12, 16))"
   ]
  },
  {
   "cell_type": "markdown",
   "metadata": {},
   "source": [
    "## Figure 5C: association of OTUs with pre- and post-debridement samples\n",
    "\n",
    "`tri_panel_plot` additional arguments:\n",
    "  - `dry_run`: collect OTU to plot without plotting if True \n",
    "  - `otu_sort_by`: sort OTU order by abundance if indicate as `abun` otherwise by the value of association coefficients\n",
    "  - `otu_group`: a dictionary of {group_name: group_member}"
   ]
  },
  {
   "cell_type": "code",
   "execution_count": null,
   "metadata": {
    "ExecuteTime": {
     "end_time": "2019-09-14T15:12:49.186741Z",
     "start_time": "2019-09-14T15:12:37.081133Z"
    },
    "collapsed": false
   },
   "outputs": [],
   "source": [
    "from skin_mb.report.results_compare import tri_panel_plot\n",
    "\n",
    "tri_panel_plot = results_compare.tri_panel_plot\n",
    "otu_abun = tri_panel_plot(dataset='filtered_no_p16',\n",
    "                          compare='pre_vs_post',\n",
    "                          otu_scope='abun',\n",
    "                          otu_sort_by='abun',\n",
    "                          dry_run=True)\n",
    "\n",
    "otu_not_abun = tri_panel_plot(dataset='filtered_no_p16',\n",
    "                              compare='pre_vs_post',\n",
    "                              otu_scope='not abun',\n",
    "                              otu_sort_by='abun',\n",
    "                              dry_run=True)\n",
    "\n",
    "otu_list = tri_panel_plot(dataset='filtered_no_p16',\n",
    "                          compare='pre_vs_post',\n",
    "                          otu_scope=None,\n",
    "                          otu_sort_by='abun',\n",
    "                          otu_group={'>0.1%': otu_abun,\n",
    "                                     '<0.1%': otu_not_abun},\n",
    "                          z_log=True,\n",
    "                          figsize=(12,6))"
   ]
  },
  {
   "cell_type": "markdown",
   "metadata": {
    "ExecuteTime": {
     "end_time": "2019-08-16T19:43:49.515667Z",
     "start_time": "2019-08-16T19:43:49.277137Z"
    }
   },
   "source": [
    "## 5D: Coarse-grained differential abundance in pre-debridement vs post-debridement of OTUs with different oxygen requirements"
   ]
  },
  {
   "cell_type": "code",
   "execution_count": null,
   "metadata": {
    "ExecuteTime": {
     "end_time": "2019-09-14T15:12:54.316385Z",
     "start_time": "2019-09-14T15:12:54.296532Z"
    },
    "collapsed": false
   },
   "outputs": [],
   "source": [
    "from skin_mb.data import DeseqResult\n",
    "\n",
    "# import results from DESeq2 for comparison of healed vs unhealed and pre vs post\n",
    "\n",
    "oxy_req = DeseqResult(\n",
    "    csv_paths={\n",
    "        'healed_vs_unhealed': DATA_PATH + '/deseq2/O2req.DESeq2/healed.vs.unhealed.overall.csv',\n",
    "        'pre_vs_post': DATA_PATH + '/deseq2/O2req.DESeq2/pre.vs.post.overall.csv'\n",
    "    }\n",
    ")"
   ]
  },
  {
   "cell_type": "code",
   "execution_count": null,
   "metadata": {
    "ExecuteTime": {
     "end_time": "2019-09-14T15:12:57.174487Z",
     "start_time": "2019-09-14T15:12:55.941406Z"
    },
    "collapsed": false
   },
   "outputs": [],
   "source": [
    "oxy_req.scatter_plot_with_bar(data_to_plot='pre_vs_post',\n",
    "                              otu_list=['Aerobic', 'Facultative', 'Anaerobic', np.nan][::-1],\n",
    "                              label_mapper={'Aerobic': 'Aerobic',\n",
    "                                            'Facultative': 'Facultative',\n",
    "                                            'Anaerobic': 'Anaerobic',\n",
    "                                            np.nan: 'Mixed'},\n",
    "                              legend_config={'Enriched in pre-debridement': {'color': '#B2112A'},\n",
    "                                             'Enriched in post-debridement': {'color': '#2C73B4'},\n",
    "                                             'Not significant': {'color': '#AEAEAE'}},\n",
    "                              value_label=r'$\\log_2$ fold change',\n",
    "                              figsize=[8, 3])\n",
    "plt.show()"
   ]
  },
  {
   "cell_type": "markdown",
   "metadata": {},
   "source": [
    "## Figure 6E: Coarse-grained differential abundance in healed wounds vs unhealed wounds of OTUs with different oxygen requirements"
   ]
  },
  {
   "cell_type": "code",
   "execution_count": null,
   "metadata": {
    "ExecuteTime": {
     "end_time": "2019-09-14T15:13:05.343197Z",
     "start_time": "2019-09-14T15:13:03.138587Z"
    },
    "collapsed": false
   },
   "outputs": [],
   "source": [
    "oxy_req.scatter_plot_with_bar(data_to_plot='healed_vs_unhealed',\n",
    "                              otu_list=['Aerobic', 'Facultative', 'Anaerobic', np.nan][::-1],\n",
    "                              label_mapper={'Aerobic': 'Aerobic',\n",
    "                                            'Facultative': 'Facultative',\n",
    "                                            'Anaerobic': 'Anaerobic',\n",
    "                                            np.nan: 'Mixed'},\n",
    "                              legend_config={'Enriched in healed wounds': {'color': '#B2112A'},\n",
    "                                             'Enriched in unhealed wounds': {'color': '#2C73B4'},\n",
    "                                             'Not significant': {'color': '#AEAEAE'}},\n",
    "                              value_label=r'$\\log_2$ fold change',   #x-axis label\n",
    "                              figsize=[8, 6])\n",
    "plt.show()"
   ]
  },
  {
   "cell_type": "markdown",
   "metadata": {},
   "source": [
    "## Figure 6F: OTU level associations with healed and unhealed wounds within different metabolic groups (oxygen requirements)"
   ]
  },
  {
   "cell_type": "code",
   "execution_count": null,
   "metadata": {
    "ExecuteTime": {
     "end_time": "2019-09-14T15:21:04.770030Z",
     "start_time": "2019-09-14T15:21:04.754798Z"
    },
    "collapsed": false
   },
   "outputs": [],
   "source": [
    "aerobes = [\"Corynebacterium 1\", \"Pseudomonas\", \"Sphingomonas\", \"Microbacterium\", \"Glutamicibacter\",\n",
    "           \"Micrococcus\", \"Brevibacterium\", \"Hymenobacter\", \"Skermanella\", \"Nocardiodes\", \"Variovorax\",\n",
    "           \"Stenotrophomonas\", \"Sphingopyxis\", \"Ralstonia\", \"Ornithinimicrobium\", \"Brachybacterium\",\n",
    "           \"Staphylococcus\", \"Streptococcus\", \"Campylobacter\", \"Chryseobacterium\",\"Agrococcus\",\n",
    "           \"Paucibacter\",\"Ornithinimicrobium\"]\n",
    "anaerobes = [\"Anaerococcus\", \"Helcococcus\", \"Gallicola\", \"Peptoniphilus\", \"Propionibacterium\", \"Fastidiosipila\",\n",
    "             \"Parvimonas\", \"Eubacterium coprostanoligenes group\", \"Porphyromonas\",\"Bacteroides\", \"Peptoclostridium\",\n",
    "             \"Dialister\",\"Fastidiosipila\"]\n",
    "facultative = [\"Actinotignum\", \"Actinomyces\", \"Enterobacter\", \"Serratia\", \"Aeromonas\", \"Salmonella\",\n",
    "               \"Lactobacillus\", \"Proteus\", \"Escherichia-Shigella\", \"Enterococcus\", \"Propionibacterium\",\n",
    "               \"Morganella\",\"Cloacibacterium\",\"Providencia\", \"Listeria\"]\n",
    "\n",
    "metabolic_groups = {'Aerobes': aerobes, 'Anaerobes': anaerobes, 'Facultative': facultative}\n",
    "\n",
    "# set up group background color\n",
    "group_bg_colors = {'Aerobes': '#55B9FA',\n",
    "                   'Anaerobes': '#89EC99',\n",
    "                   'Facultative': '#FF6A70',\n",
    "                   'Other': '#F2F2F2'}"
   ]
  },
  {
   "cell_type": "code",
   "execution_count": null,
   "metadata": {
    "ExecuteTime": {
     "end_time": "2019-09-14T15:21:35.050900Z",
     "start_time": "2019-09-14T15:21:24.763244Z"
    },
    "collapsed": false,
    "scrolled": false
   },
   "outputs": [],
   "source": [
    "dataset = 'filtered_no_p16'\n",
    "\n",
    "from skin_mb.report.results_compare import sig_otu_beta_deseq2_heal_unheal\n",
    "\n",
    "sig_otu_beta_deseq2_heal_unheal(dataset=dataset,\n",
    "                                label_mapper='genus_name',\n",
    "                                metabolic_groups=metabolic_groups, group_bg_colors=group_bg_colors,\n",
    "                                heal_vs_unheal=True, figsize=[8,8],\n",
    "                                otu_marker_colors=['#B2112A', '#707070', '#2C73B4'])\n",
    "plt.show()"
   ]
  },
  {
   "cell_type": "markdown",
   "metadata": {},
   "source": [
    "# Supporting information\n",
    "\n",
    "## Figure S1A"
   ]
  },
  {
   "cell_type": "code",
   "execution_count": null,
   "metadata": {
    "ExecuteTime": {
     "end_time": "2019-09-14T15:30:50.477382Z",
     "start_time": "2019-09-14T15:30:46.999004Z"
    },
    "collapsed": false
   },
   "outputs": [],
   "source": [
    "from skin_mb.report import misc\n",
    "misc.passing_rate_history_plot()"
   ]
  },
  {
   "cell_type": "markdown",
   "metadata": {},
   "source": [
    "## Figure S1B"
   ]
  },
  {
   "cell_type": "code",
   "execution_count": null,
   "metadata": {
    "ExecuteTime": {
     "end_time": "2019-09-14T15:32:13.911394Z",
     "start_time": "2019-09-14T15:32:11.282006Z"
    },
    "collapsed": false
   },
   "outputs": [],
   "source": [
    "from skin_mb.report import misc\n",
    "\n",
    "misc.survey_blast_results_all_sample()"
   ]
  },
  {
   "cell_type": "markdown",
   "metadata": {},
   "source": [
    "## Figure S1C"
   ]
  },
  {
   "cell_type": "code",
   "execution_count": null,
   "metadata": {
    "ExecuteTime": {
     "end_time": "2019-09-14T15:33:22.235474Z",
     "start_time": "2019-09-14T15:33:16.358310Z"
    },
    "collapsed": false
   },
   "outputs": [],
   "source": [
    "from skin_mb.report import misc\n",
    "\n",
    "misc.otu_distribution_scatter_plot()"
   ]
  },
  {
   "cell_type": "markdown",
   "metadata": {},
   "source": [
    "## Figure S1D"
   ]
  },
  {
   "cell_type": "code",
   "execution_count": null,
   "metadata": {
    "ExecuteTime": {
     "end_time": "2019-09-14T15:33:47.706194Z",
     "start_time": "2019-09-14T15:33:29.795964Z"
    },
    "collapsed": false
   },
   "outputs": [],
   "source": [
    "from skin_mb.report import misc\n",
    "misc.per_sample_top_otu_curve()"
   ]
  },
  {
   "cell_type": "markdown",
   "metadata": {},
   "source": [
    "## Figure S1E"
   ]
  },
  {
   "cell_type": "code",
   "execution_count": null,
   "metadata": {
    "ExecuteTime": {
     "end_time": "2019-09-14T15:33:51.031924Z",
     "start_time": "2019-09-14T15:33:47.735173Z"
    },
    "collapsed": false
   },
   "outputs": [],
   "source": [
    "from skin_mb.report import misc\n",
    "misc.filter_table_barplot(figsize=[12, 4])"
   ]
  },
  {
   "cell_type": "markdown",
   "metadata": {},
   "source": [
    "## Figure S4"
   ]
  },
  {
   "cell_type": "code",
   "execution_count": null,
   "metadata": {
    "ExecuteTime": {
     "end_time": "2019-09-14T15:34:15.294701Z",
     "start_time": "2019-09-14T15:34:08.566215Z"
    },
    "collapsed": false
   },
   "outputs": [],
   "source": [
    "from skin_mb.report import misc\n",
    "\n",
    "misc.bglmm_prediction('pre')\n",
    "misc.bglmm_prediction('post')\n",
    "misc.bglmm_prediction('skin')"
   ]
  },
  {
   "cell_type": "markdown",
   "metadata": {},
   "source": [
    "## Figure S5: Significant OTUs detected in models"
   ]
  },
  {
   "cell_type": "code",
   "execution_count": null,
   "metadata": {
    "ExecuteTime": {
     "end_time": "2019-09-14T15:34:26.954719Z",
     "start_time": "2019-09-14T15:34:22.393143Z"
    },
    "collapsed": false
   },
   "outputs": [],
   "source": [
    "from skin_mb.report import results_compare\n",
    "\n",
    "results_compare.sig_otu_abun_bar_plot(dataset='filtered_no_p16')"
   ]
  },
  {
   "cell_type": "markdown",
   "metadata": {},
   "source": [
    "## Figure S8"
   ]
  },
  {
   "cell_type": "code",
   "execution_count": null,
   "metadata": {
    "ExecuteTime": {
     "end_time": "2019-09-14T15:35:07.099692Z",
     "start_time": "2019-09-14T15:35:01.667540Z"
    },
    "collapsed": false
   },
   "outputs": [],
   "source": [
    "from skin_mb.data.deseq2 import DeseqResult, DeseqResultSingle\n",
    "\n",
    "data_root = '../data/'\n",
    "deseq_res = DeseqResult.load_default('filtered_no_p16')\n",
    "\n",
    "# add healed vs unhealed skin \n",
    "deseq_res.healed_vs_unhealed_skin = DeseqResultSingle(\n",
    "    csv_path=data_root + 'deseq2/filtered_no_p16/results/healed.vs.unhealed.skin.csv', p_cutoff=0.05\n",
    ")\n",
    "deseq_res.healed_vs_unhealed_skin.cutoff_pval(p_cutoff=0.5)\n",
    "otu_p0_5 = deseq_res.healed_vs_unhealed_skin.sig_otu.index  # survery OTUs with p_adj < 0.5\n",
    "deseq_res.healed_vs_unhealed_skin.cutoff_pval(p_cutoff=0.05)\n",
    "\n",
    "from skin_mb.data.table import get_otu_id_to_taxo_name\n",
    "label_mapper = get_otu_id_to_taxo_name().to_dict()\n",
    "deseq_res.scatter_plot_with_bar(data_to_plot='healed_vs_unhealed_skin',\n",
    "                                label_mapper=label_mapper,\n",
    "                                otu_list=otu_p0_5,\n",
    "                                legend_config={'Enriched in healed': {'color':'#B2112A'},\n",
    "                                               'Enriched in unhealed': {'color': '#2C73B4'},\n",
    "                                               'Not significant': {'color': '#AEAEAE'}})\n",
    "plt.show()"
   ]
  },
  {
   "cell_type": "markdown",
   "metadata": {},
   "source": [
    "## Figure S9"
   ]
  },
  {
   "cell_type": "code",
   "execution_count": null,
   "metadata": {
    "ExecuteTime": {
     "end_time": "2019-09-15T20:50:48.632814Z",
     "start_time": "2019-09-15T20:50:36.191341Z"
    },
    "collapsed": false,
    "scrolled": false
   },
   "outputs": [],
   "source": [
    "from skin_mb.report import results_compare\n",
    "\n",
    "results_compare.results_robustness(model='BGLMM',        # choose 'BGLMM' or 'DESeq2'\n",
    "                                   compare='pre_vs_skin',   # choose from 'pre_vs_skin' or 'pre_vs_post'\n",
    "                                   show_only_abun=True,\n",
    "                                   figsize=(5,18))\n",
    "plt.show()"
   ]
  }
 ],
 "metadata": {
  "celltoolbar": "Initialization Cell",
  "kernelspec": {
   "display_name": "Python 3",
   "language": "python",
   "name": "python3"
  },
  "language_info": {
   "codemirror_mode": {
    "name": "ipython",
    "version": 3
   },
   "file_extension": ".py",
   "mimetype": "text/x-python",
   "name": "python",
   "nbconvert_exporter": "python",
   "pygments_lexer": "ipython3",
   "version": "3.6.0"
  },
  "toc": {
   "nav_menu": {},
   "number_sections": true,
   "sideBar": true,
   "skip_h1_title": false,
   "toc_cell": false,
   "toc_position": {},
   "toc_section_display": "block",
   "toc_window_display": false
  },
  "varInspector": {
   "cols": {
    "lenName": 16,
    "lenType": 16,
    "lenVar": 40
   },
   "kernels_config": {
    "python": {
     "delete_cmd_postfix": "",
     "delete_cmd_prefix": "del ",
     "library": "var_list.py",
     "varRefreshCmd": "print(var_dic_list())"
    },
    "r": {
     "delete_cmd_postfix": ") ",
     "delete_cmd_prefix": "rm(",
     "library": "var_list.r",
     "varRefreshCmd": "cat(var_dic_list()) "
    }
   },
   "types_to_exclude": [
    "module",
    "function",
    "builtin_function_or_method",
    "instance",
    "_Feature"
   ],
   "window_display": false
  }
 },
 "nbformat": 4,
 "nbformat_minor": 2
}
